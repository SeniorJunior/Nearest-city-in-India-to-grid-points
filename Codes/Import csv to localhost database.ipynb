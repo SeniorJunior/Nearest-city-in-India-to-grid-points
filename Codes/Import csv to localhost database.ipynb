{
 "cells": [
  {
   "cell_type": "markdown",
   "metadata": {},
   "source": [
    "## Import csv File to database"
   ]
  },
  {
   "cell_type": "code",
   "execution_count": 1,
   "metadata": {
    "scrolled": true
   },
   "outputs": [
    {
     "data": {
      "text/plain": [
       "'/Users/williamadriel/Desktop'"
      ]
     },
     "execution_count": 1,
     "metadata": {},
     "output_type": "execute_result"
    }
   ],
   "source": [
    "import json\n",
    "import psycopg2\n",
    "import io\n",
    "import pandas as pd\n",
    "import os\n",
    "os.getcwd()"
   ]
  },
  {
   "cell_type": "code",
   "execution_count": 2,
   "metadata": {},
   "outputs": [
    {
     "data": {
      "text/plain": [
       "['Grid for India Map.ipynb',\n",
       " 'Screenshot 2020-01-22 at 10.32.43.png',\n",
       " 'Import csv to localhost database.ipynb',\n",
       " 'CreateIndex.png',\n",
       " 'Screenshot 2020-01-08 at 17.17.05.png',\n",
       " '.DS_Store',\n",
       " 'Movie on 15-12-19 at 01.24.mov',\n",
       " '.localized',\n",
       " 'Grid Polygons.ipynb',\n",
       " 'Screenshot 2020-01-13 at 14.55.44.png',\n",
       " 'Adobe stuff',\n",
       " 'Screenshot 2020-01-21 at 16.00.11.png',\n",
       " 'India City State Mapping.xlsx',\n",
       " 'Screenshot 2020-01-08 at 18.17.23.png',\n",
       " 'Screenshot 2020-01-08 at 19.29.19.png',\n",
       " 'director interview',\n",
       " 'Screenshot 2020-01-22 at 17.10.09.png',\n",
       " 'Yara',\n",
       " 'Screenshot 2020-01-21 at 15.50.12.png',\n",
       " 'Screenshot 2020-01-13 at 15.00.09.png',\n",
       " 'Screenshot 2020-01-31 at 12.33.00.png',\n",
       " 'Untitled Export',\n",
       " 'William Signature.jpg',\n",
       " 'in.csv',\n",
       " 'skyweathercsv',\n",
       " 'Screenshot 2020-01-08 at 17.11.27.png',\n",
       " 'Screenshot 2020-01-30 at 18.12.06.png',\n",
       " 'December William Adriel Timesheet.xlsx',\n",
       " 'Screenshot 2020-01-13 at 14.44.31.png',\n",
       " '.ipynb_checkpoints',\n",
       " 'import CSV File.ipynb',\n",
       " 'Screenshot 2020-01-13 at 14.42.20.png',\n",
       " 'Link Glitch.mov',\n",
       " 'Screenshot 2020-01-08 at 17.13.40.png',\n",
       " 'grid-of-india.py',\n",
       " 'Screenshot 2020-01-08 at 10.22.39.png',\n",
       " 'Screenshot 2020-01-08 at 17.17.27.png',\n",
       " 'December Timesheet.xlsx',\n",
       " 'Screenshot 2020-01-16 at 17.02.16.png']"
      ]
     },
     "execution_count": 2,
     "metadata": {},
     "output_type": "execute_result"
    }
   ],
   "source": [
    "os.listdir(os.getcwd())"
   ]
  },
  {
   "cell_type": "code",
   "execution_count": 3,
   "metadata": {},
   "outputs": [
    {
     "data": {
      "text/html": [
       "<div>\n",
       "<style scoped>\n",
       "    .dataframe tbody tr th:only-of-type {\n",
       "        vertical-align: middle;\n",
       "    }\n",
       "\n",
       "    .dataframe tbody tr th {\n",
       "        vertical-align: top;\n",
       "    }\n",
       "\n",
       "    .dataframe thead th {\n",
       "        text-align: right;\n",
       "    }\n",
       "</style>\n",
       "<table border=\"1\" class=\"dataframe\">\n",
       "  <thead>\n",
       "    <tr style=\"text-align: right;\">\n",
       "      <th></th>\n",
       "      <th>Unnamed: 0</th>\n",
       "      <th>lon</th>\n",
       "      <th>lat</th>\n",
       "      <th>id</th>\n",
       "      <th>index_right</th>\n",
       "      <th>NAME_1</th>\n",
       "      <th>NAME_2</th>\n",
       "      <th>NAME_0</th>\n",
       "    </tr>\n",
       "  </thead>\n",
       "  <tbody>\n",
       "    <tr>\n",
       "      <th>0</th>\n",
       "      <td>187</td>\n",
       "      <td>68.27</td>\n",
       "      <td>23.85</td>\n",
       "      <td>NaN</td>\n",
       "      <td>147</td>\n",
       "      <td>Gujarat</td>\n",
       "      <td>Kachchh</td>\n",
       "      <td>India</td>\n",
       "    </tr>\n",
       "    <tr>\n",
       "      <th>1</th>\n",
       "      <td>306</td>\n",
       "      <td>68.54</td>\n",
       "      <td>23.60</td>\n",
       "      <td>NaN</td>\n",
       "      <td>147</td>\n",
       "      <td>Gujarat</td>\n",
       "      <td>Kachchh</td>\n",
       "      <td>India</td>\n",
       "    </tr>\n",
       "    <tr>\n",
       "      <th>2</th>\n",
       "      <td>424</td>\n",
       "      <td>68.81</td>\n",
       "      <td>23.11</td>\n",
       "      <td>NaN</td>\n",
       "      <td>147</td>\n",
       "      <td>Gujarat</td>\n",
       "      <td>Kachchh</td>\n",
       "      <td>India</td>\n",
       "    </tr>\n",
       "    <tr>\n",
       "      <th>3</th>\n",
       "      <td>425</td>\n",
       "      <td>68.81</td>\n",
       "      <td>23.36</td>\n",
       "      <td>NaN</td>\n",
       "      <td>147</td>\n",
       "      <td>Gujarat</td>\n",
       "      <td>Kachchh</td>\n",
       "      <td>India</td>\n",
       "    </tr>\n",
       "    <tr>\n",
       "      <th>4</th>\n",
       "      <td>426</td>\n",
       "      <td>68.81</td>\n",
       "      <td>23.60</td>\n",
       "      <td>NaN</td>\n",
       "      <td>147</td>\n",
       "      <td>Gujarat</td>\n",
       "      <td>Kachchh</td>\n",
       "      <td>India</td>\n",
       "    </tr>\n",
       "  </tbody>\n",
       "</table>\n",
       "</div>"
      ],
      "text/plain": [
       "   Unnamed: 0    lon    lat  id  index_right   NAME_1   NAME_2 NAME_0\n",
       "0         187  68.27  23.85 NaN          147  Gujarat  Kachchh  India\n",
       "1         306  68.54  23.60 NaN          147  Gujarat  Kachchh  India\n",
       "2         424  68.81  23.11 NaN          147  Gujarat  Kachchh  India\n",
       "3         425  68.81  23.36 NaN          147  Gujarat  Kachchh  India\n",
       "4         426  68.81  23.60 NaN          147  Gujarat  Kachchh  India"
      ]
     },
     "execution_count": 3,
     "metadata": {},
     "output_type": "execute_result"
    }
   ],
   "source": [
    "grid = pd.read_csv(\"/Users/williamadriel/Desktop/Yara/merged_grid.csv\")\n",
    "grid.head()"
   ]
  },
  {
   "cell_type": "code",
   "execution_count": 4,
   "metadata": {},
   "outputs": [],
   "source": [
    "def to_pg(df, conn, cur, table_name):\n",
    "    \"\"\"Bulk load data in a dataframe to the connected database.\n",
    "    Params:\n",
    "        (pandas dataframe) Dataframe to be loaded into the database\n",
    "        (connection object) Created from the engine.raw_connection() function\n",
    "        (cursor object) Created from the conn.cursor() function\n",
    "        (str) Name of the target table to load the data to\n",
    "    Returns:\n",
    "        None\n",
    "    \"\"\"\n",
    "    # generate an in-memory stream for text I/O\n",
    "    output = io.StringIO()\n",
    "    # save the dataframe as text buffer in the stream\n",
    "    df.to_csv(output, sep='\\t', header=False, index=False)\n",
    "    # set the stream position to the start of the stream\n",
    "    output.seek(0)\n",
    "    # copy output to the target table in the db (null values become '')\n",
    "    cur.copy_from(output, table_name, null=\"\")\n",
    "    # commit to save the changes in the db table\n",
    "    conn.commit()\n",
    "    # close stream object and discard the text buffer\n",
    "    output.close()"
   ]
  },
  {
   "cell_type": "code",
   "execution_count": 5,
   "metadata": {},
   "outputs": [],
   "source": [
    "conn = psycopg2.connect(dbname=\"postgres\", user=\"postgres\", host=\"localhost\",port = 5433, password = '1234')\n",
    "cur = conn.cursor()\n",
    "to_pg(grid,conn,cur,'public.grid')"
   ]
  },
  {
   "cell_type": "code",
   "execution_count": null,
   "metadata": {},
   "outputs": [],
   "source": []
  }
 ],
 "metadata": {
  "kernelspec": {
   "display_name": "Python 3",
   "language": "python",
   "name": "python3"
  },
  "language_info": {
   "codemirror_mode": {
    "name": "ipython",
    "version": 3
   },
   "file_extension": ".py",
   "mimetype": "text/x-python",
   "name": "python",
   "nbconvert_exporter": "python",
   "pygments_lexer": "ipython3",
   "version": "3.7.5"
  }
 },
 "nbformat": 4,
 "nbformat_minor": 2
}
